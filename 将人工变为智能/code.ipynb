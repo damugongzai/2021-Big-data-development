{
 "cells": [
  {
   "cell_type": "code",
   "execution_count": 2,
   "metadata": {
    "ExecuteTime": {
     "end_time": "2021-06-01T11:33:27.798648Z",
     "start_time": "2021-06-01T11:33:25.623025Z"
    }
   },
   "outputs": [],
   "source": [
    "import boto3"
   ]
  },
  {
   "cell_type": "code",
   "execution_count": 15,
   "metadata": {
    "ExecuteTime": {
     "end_time": "2021-06-01T11:40:25.331606Z",
     "start_time": "2021-06-01T11:40:10.179499Z"
    }
   },
   "outputs": [
    {
     "name": "stdout",
     "output_type": "stream",
     "text": [
      "new1\n"
     ]
    }
   ],
   "source": [
    "\n",
    "access_key = 'F1C89FE5FFD52C4614EE'\n",
    "\n",
    "secret_key = 'Wzk3MUE2MTU5NUQ3Nzg1ODBENDdDMDNDNzE0NTA3'\n",
    "\n",
    "s3_host = 'http://scut.depts.bingosoft.net:29997'\n",
    "\n",
    "bucket_name = 'new1'\n",
    "\n",
    "s3client = boto3.client('s3',\n",
    "aws_secret_access_key = secret_key,\n",
    "aws_access_key_id = access_key,\n",
    "endpoint_url = s3_host)\n",
    "\n",
    "\n",
    "response = s3client.list_buckets()\n",
    "\n",
    "## list bucket\n",
    "#\n",
    "for bucket in response['Buckets']:\n",
    "#\n",
    "    print( format(bucket['Name']))\n",
    "#"
   ]
  },
  {
   "cell_type": "code",
   "execution_count": 16,
   "metadata": {
    "ExecuteTime": {
     "end_time": "2021-06-01T11:40:26.518692Z",
     "start_time": "2021-06-01T11:40:26.416369Z"
    }
   },
   "outputs": [
    {
     "name": "stdout",
     "output_type": "stream",
     "text": [
      "Creating bucket new1 returns => {'ResponseMetadata': {'RequestId': 'tx0000000000000000069c7-0060b61caa-f00f0be-default', 'HostId': '', 'HTTPStatusCode': 200, 'HTTPHeaders': {'server': 'BingoCloudS3 2.2.0', 'x-amz-request-id': 'tx0000000000000000069c7-0060b61caa-f00f0be-default', 'content-length': '0', 'date': 'Tue, 01 Jun 2021 11:40:26 GMT', 'connection': 'Keep-Alive'}, 'RetryAttempts': 0}}\n",
      "\n"
     ]
    }
   ],
   "source": [
    "response = s3client.create_bucket(Bucket = \"new2\")\n",
    "\n",
    "print (\"Creating bucket {0} returns => {1}\\n\".format(bucket_name, response))"
   ]
  },
  {
   "cell_type": "code",
   "execution_count": null,
   "metadata": {},
   "outputs": [],
   "source": []
  }
 ],
 "metadata": {
  "kernelspec": {
   "display_name": "Python 3",
   "language": "python",
   "name": "python3"
  },
  "language_info": {
   "codemirror_mode": {
    "name": "ipython",
    "version": 3
   },
   "file_extension": ".py",
   "mimetype": "text/x-python",
   "name": "python",
   "nbconvert_exporter": "python",
   "pygments_lexer": "ipython3",
   "version": "3.7.6"
  },
  "toc": {
   "base_numbering": 1,
   "nav_menu": {},
   "number_sections": true,
   "sideBar": true,
   "skip_h1_title": false,
   "title_cell": "Table of Contents",
   "title_sidebar": "Contents",
   "toc_cell": false,
   "toc_position": {},
   "toc_section_display": true,
   "toc_window_display": false
  }
 },
 "nbformat": 4,
 "nbformat_minor": 4
}
